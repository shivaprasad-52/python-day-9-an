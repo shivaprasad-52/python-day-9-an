{
 "cells": [
  {
   "cell_type": "code",
   "execution_count": 93,
   "metadata": {},
   "outputs": [
    {
     "name": "stdout",
     "output_type": "stream",
     "text": [
      "contact Aravind is added\n",
      "contact hi is added\n",
      "contect Aravind is already exists\n"
     ]
    }
   ],
   "source": [
    "contacts={}\n",
    "def addContacts(name,phone):\n",
    "    if name not in contacts:\n",
    "        contacts[name]=phone\n",
    "        print(\"contact %s is added\" %name)\n",
    "    else:\n",
    "            print(\"contect %s is already exists\"%name)\n",
    "    return\n",
    "addContacts('Aravind',7286873108)\n",
    "addContacts('hi',5614561434)\n",
    "addContacts('Aravind',7286873108)"
   ]
  },
  {
   "cell_type": "code",
   "execution_count": 94,
   "metadata": {},
   "outputs": [
    {
     "name": "stdout",
     "output_type": "stream",
     "text": [
      "Aravind : 7286873108\n",
      "hi : 5614561434\n",
      "hello does not exits\n"
     ]
    }
   ],
   "source": [
    "def searchcontact(name):\n",
    "    if name in contacts:\n",
    "        print(name,\":\",contacts[name])\n",
    "    else:\n",
    "        print(\"%s does not exits\"%name)\n",
    "    return\n",
    "searchcontact(\"Aravind\")\n",
    "searchcontact(\"hi\")\n",
    "searchcontact(\"hello\")"
   ]
  },
  {
   "cell_type": "code",
   "execution_count": 95,
   "metadata": {},
   "outputs": [
    {
     "name": "stdout",
     "output_type": "stream",
     "text": [
      "3 contacts added sussefully\n",
      "{'Aravind': 7286873108, 'hi': 5614561434, 'Dinesh': 7286856766, 'Ajay': 479414461454, 'vijay': 234545313545} "
     ]
    }
   ],
   "source": [
    "def importcontacts(newcontacts):\n",
    "    contacts.update(newcontacts)\n",
    "    print(len(newcontacts.keys()),\"contacts added sussefully\")\n",
    "    return\n",
    "newcontacts={'Dinesh':7286856766,'Ajay':479414461454,'vijay':234545313545}\n",
    "importcontacts(newcontacts)\n",
    "print(contacts,end=\" \")"
   ]
  },
  {
   "cell_type": "code",
   "execution_count": 96,
   "metadata": {},
   "outputs": [
    {
     "name": "stdout",
     "output_type": "stream",
     "text": [
      "hi : is deleted from contacts\n",
      "Remaning Contacts are: {'Aravind': 7286873108, 'Dinesh': 7286856766, 'Ajay': 479414461454, 'vijay': 234545313545}\n",
      "4\n",
      "vijay : is deleted from contacts\n",
      "Remaning Contacts are: {'Aravind': 7286873108, 'Dinesh': 7286856766, 'Ajay': 479414461454}\n",
      "3\n"
     ]
    }
   ],
   "source": [
    "def deletcontact(name):\n",
    "    if name in contacts:\n",
    "        del contacts[name]\n",
    "        print(name,\": is deleted from contacts\")\n",
    "        print(\"Remaning Contacts are:\",contacts)\n",
    "        print(len(contacts))\n",
    "    else:\n",
    "        print(name,\": is not exities in the contacts\")\n",
    "        print(\"Remaning Contacts are:\",contacts)\n",
    "        print(len(contacts))\n",
    "    return\n",
    "deletcontact(\"hi\")\n",
    "deletcontact(\"vijay\")"
   ]
  },
  {
   "cell_type": "code",
   "execution_count": 56,
   "metadata": {},
   "outputs": [
    {
     "name": "stdout",
     "output_type": "stream",
     "text": [
      "Aravind : is updated with new phone Number\n",
      "Aravind 5515445431436\n",
      "hello : is not existes in your phone So,update is not possible\n"
     ]
    }
   ],
   "source": [
    "def updatecontacts(name,phone):\n",
    "    if name in contacts:\n",
    "        contacts[name]=phone\n",
    "        print(name,\": is updated with new phone Number\")\n",
    "        print(name  ,phone)\n",
    "    else:\n",
    "        print(name,\": is not existes in your phone So,update is not possible\")\n",
    "    return\n",
    "updatecontacts('Aravind',5515445431436)\n",
    "updatecontacts('hello',5515445431436)"
   ]
  },
  {
   "cell_type": "code",
   "execution_count": 72,
   "metadata": {},
   "outputs": [
    {
     "name": "stdout",
     "output_type": "stream",
     "text": [
      "value at '0' is :1 value at '1' is :2\n",
      "value at '0' is :1 value at '1' is :2\n"
     ]
    }
   ],
   "source": [
    "lst=[1,2,5,8,9,5,4]\n",
    "print(\"value at '0' is :{0} value at '1' is :{1}\".format(lst[0],lst[1]))\n",
    "print(\"value at '0' is :{0} value at '1' is :{1}\".format(lst[0],lst[1]))"
   ]
  },
  {
   "cell_type": "code",
   "execution_count": 83,
   "metadata": {},
   "outputs": [
    {
     "ename": "SyntaxError",
     "evalue": "invalid syntax (<ipython-input-83-7abb8fbcb628>, line 1)",
     "output_type": "error",
     "traceback": [
      "\u001b[0;36m  File \u001b[0;32m\"<ipython-input-83-7abb8fbcb628>\"\u001b[0;36m, line \u001b[0;32m1\u001b[0m\n\u001b[0;31m    from math import floor f1\u001b[0m\n\u001b[0m                            ^\u001b[0m\n\u001b[0;31mSyntaxError\u001b[0m\u001b[0;31m:\u001b[0m invalid syntax\n"
     ]
    }
   ],
   "source": [
    "from math import floor f1\n",
    "f1(123,456)"
   ]
  },
  {
   "cell_type": "code",
   "execution_count": 76,
   "metadata": {},
   "outputs": [
    {
     "data": {
      "text/plain": [
       "120"
      ]
     },
     "execution_count": 76,
     "metadata": {},
     "output_type": "execute_result"
    }
   ],
   "source": [
    "from math import factorial as fact\n",
    "fact(5)"
   ]
  },
  {
   "cell_type": "code",
   "execution_count": 77,
   "metadata": {},
   "outputs": [
    {
     "data": {
      "text/plain": [
       "120"
      ]
     },
     "execution_count": 77,
     "metadata": {},
     "output_type": "execute_result"
    }
   ],
   "source": [
    "import math\n",
    "math.factorial(5)"
   ]
  },
  {
   "cell_type": "code",
   "execution_count": 86,
   "metadata": {},
   "outputs": [
    {
     "name": "stdout",
     "output_type": "stream",
     "text": [
      "16 32 19 17 44 19 48 24 41 37 "
     ]
    }
   ],
   "source": [
    "import random\n",
    "def genrateRandomnumbers(n,lb,up):\n",
    "    for i in range(0,n):\n",
    "        print(random.randint(lb,up),end=\" \")\n",
    "    return\n",
    "genrateRandomnumbers(10,13,50)"
   ]
  },
  {
   "cell_type": "code",
   "execution_count": null,
   "metadata": {},
   "outputs": [],
   "source": []
  }
 ],
 "metadata": {
  "kernelspec": {
   "display_name": "Python 3",
   "language": "python",
   "name": "python3"
  },
  "language_info": {
   "codemirror_mode": {
    "name": "ipython",
    "version": 3
   },
   "file_extension": ".py",
   "mimetype": "text/x-python",
   "name": "python",
   "nbconvert_exporter": "python",
   "pygments_lexer": "ipython3",
   "version": "3.7.3"
  }
 },
 "nbformat": 4,
 "nbformat_minor": 2
}
